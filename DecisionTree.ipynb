{
 "cells": [
  {
   "cell_type": "code",
   "execution_count": 2,
   "id": "d9534fe7",
   "metadata": {},
   "outputs": [],
   "source": [
    "from sklearn.datasets import make_moons\n",
    "\n",
    "X,y=make_moons(n_samples=10000,noise=0.4,random_state=42)"
   ]
  },
  {
   "cell_type": "code",
   "execution_count": 3,
   "id": "a21c1a44",
   "metadata": {},
   "outputs": [
    {
     "data": {
      "text/plain": [
       "(10000, 2)"
      ]
     },
     "execution_count": 3,
     "metadata": {},
     "output_type": "execute_result"
    }
   ],
   "source": [
    "X.shape"
   ]
  },
  {
   "cell_type": "code",
   "execution_count": 7,
   "id": "11c71c00",
   "metadata": {},
   "outputs": [],
   "source": [
    "from sklearn.tree import DecisionTreeClassifier\n",
    "clf=DecisionTreeClassifier()"
   ]
  },
  {
   "cell_type": "code",
   "execution_count": 14,
   "id": "7b707e38",
   "metadata": {},
   "outputs": [],
   "source": [
    "param={'max_depth':[1,2,3,4],'min_samples_split':[1,2,3,4],'min_samples_leaf':[1,2,3,4],'max_leaf_nodes':[1,2,3,4]}"
   ]
  },
  {
   "cell_type": "code",
   "execution_count": 15,
   "id": "d4245fd2",
   "metadata": {},
   "outputs": [],
   "source": [
    "from sklearn.model_selection import GridSearchCV\n",
    "grid_search=GridSearchCV(clf,param_grid=param,cv=5)"
   ]
  },
  {
   "cell_type": "code",
   "execution_count": 16,
   "id": "2d8dbc27",
   "metadata": {},
   "outputs": [
    {
     "name": "stderr",
     "output_type": "stream",
     "text": [
      "C:\\Users\\yang.zhang\\Anaconda3\\lib\\site-packages\\sklearn\\model_selection\\_validation.py:372: FitFailedWarning: \n",
      "560 fits failed out of a total of 1280.\n",
      "The score on these train-test partitions for these parameters will be set to nan.\n",
      "If these failures are not expected, you can try to debug them by setting error_score='raise'.\n",
      "\n",
      "Below are more details about the failures:\n",
      "--------------------------------------------------------------------------------\n",
      "320 fits failed with the following error:\n",
      "Traceback (most recent call last):\n",
      "  File \"C:\\Users\\yang.zhang\\Anaconda3\\lib\\site-packages\\sklearn\\model_selection\\_validation.py\", line 680, in _fit_and_score\n",
      "    estimator.fit(X_train, y_train, **fit_params)\n",
      "  File \"C:\\Users\\yang.zhang\\Anaconda3\\lib\\site-packages\\sklearn\\tree\\_classes.py\", line 937, in fit\n",
      "    super().fit(\n",
      "  File \"C:\\Users\\yang.zhang\\Anaconda3\\lib\\site-packages\\sklearn\\tree\\_classes.py\", line 250, in fit\n",
      "    raise ValueError(\n",
      "ValueError: min_samples_split must be an integer greater than 1 or a float in (0.0, 1.0]; got the integer 1\n",
      "\n",
      "--------------------------------------------------------------------------------\n",
      "240 fits failed with the following error:\n",
      "Traceback (most recent call last):\n",
      "  File \"C:\\Users\\yang.zhang\\Anaconda3\\lib\\site-packages\\sklearn\\model_selection\\_validation.py\", line 680, in _fit_and_score\n",
      "    estimator.fit(X_train, y_train, **fit_params)\n",
      "  File \"C:\\Users\\yang.zhang\\Anaconda3\\lib\\site-packages\\sklearn\\tree\\_classes.py\", line 937, in fit\n",
      "    super().fit(\n",
      "  File \"C:\\Users\\yang.zhang\\Anaconda3\\lib\\site-packages\\sklearn\\tree\\_classes.py\", line 314, in fit\n",
      "    raise ValueError(\n",
      "ValueError: max_leaf_nodes 1 must be either None or larger than 1\n",
      "\n",
      "  warnings.warn(some_fits_failed_message, FitFailedWarning)\n",
      "C:\\Users\\yang.zhang\\Anaconda3\\lib\\site-packages\\sklearn\\model_selection\\_search.py:969: UserWarning: One or more of the test scores are non-finite: [   nan    nan    nan    nan    nan    nan    nan    nan    nan    nan\n",
      "    nan    nan    nan    nan    nan    nan    nan 0.7735 0.7735 0.7735\n",
      "    nan 0.7735 0.7735 0.7735    nan 0.7735 0.7735 0.7735    nan 0.7735\n",
      " 0.7735 0.7735    nan 0.7735 0.7735 0.7735    nan 0.7735 0.7735 0.7735\n",
      "    nan 0.7735 0.7735 0.7735    nan 0.7735 0.7735 0.7735    nan 0.7735\n",
      " 0.7735 0.7735    nan 0.7735 0.7735 0.7735    nan 0.7735 0.7735 0.7735\n",
      "    nan 0.7735 0.7735 0.7735    nan    nan    nan    nan    nan    nan\n",
      "    nan    nan    nan    nan    nan    nan    nan    nan    nan    nan\n",
      "    nan 0.7735 0.7735 0.7735    nan 0.7735 0.7735 0.7735    nan 0.7735\n",
      " 0.7735 0.7735    nan 0.7735 0.7735 0.7735    nan 0.8151 0.8151 0.8151\n",
      "    nan 0.8151 0.8151 0.8151    nan 0.8151 0.8151 0.8151    nan 0.8151\n",
      " 0.8151 0.8151    nan 0.8568 0.8568 0.8568    nan 0.8568 0.8568 0.8568\n",
      "    nan 0.8568 0.8568 0.8568    nan 0.8568 0.8568 0.8568    nan    nan\n",
      "    nan    nan    nan    nan    nan    nan    nan    nan    nan    nan\n",
      "    nan    nan    nan    nan    nan 0.7735 0.7735 0.7735    nan 0.7735\n",
      " 0.7735 0.7735    nan 0.7735 0.7735 0.7735    nan 0.7735 0.7735 0.7735\n",
      "    nan 0.8151 0.8151 0.8151    nan 0.8151 0.8151 0.8151    nan 0.8151\n",
      " 0.8151 0.8151    nan 0.8151 0.8151 0.8151    nan 0.8568 0.8568 0.8568\n",
      "    nan 0.8568 0.8568 0.8568    nan 0.8568 0.8568 0.8568    nan 0.8568\n",
      " 0.8568 0.8568    nan    nan    nan    nan    nan    nan    nan    nan\n",
      "    nan    nan    nan    nan    nan    nan    nan    nan    nan 0.7735\n",
      " 0.7735 0.7735    nan 0.7735 0.7735 0.7735    nan 0.7735 0.7735 0.7735\n",
      "    nan 0.7735 0.7735 0.7735    nan 0.8151 0.8151 0.8151    nan 0.8151\n",
      " 0.8151 0.8151    nan 0.8151 0.8151 0.8151    nan 0.8151 0.8151 0.8151\n",
      "    nan 0.8568 0.8568 0.8568    nan 0.8568 0.8568 0.8568    nan 0.8568\n",
      " 0.8568 0.8568    nan 0.8568 0.8568 0.8568]\n",
      "  warnings.warn(\n"
     ]
    },
    {
     "data": {
      "text/plain": [
       "GridSearchCV(cv=5, estimator=DecisionTreeClassifier(),\n",
       "             param_grid={'max_depth': [1, 2, 3, 4],\n",
       "                         'max_leaf_nodes': [1, 2, 3, 4],\n",
       "                         'min_samples_leaf': [1, 2, 3, 4],\n",
       "                         'min_samples_split': [1, 2, 3, 4]})"
      ]
     },
     "execution_count": 16,
     "metadata": {},
     "output_type": "execute_result"
    }
   ],
   "source": [
    "grid_search.fit(X,y)"
   ]
  },
  {
   "cell_type": "code",
   "execution_count": 17,
   "id": "15812b2a",
   "metadata": {},
   "outputs": [
    {
     "data": {
      "text/plain": [
       "{'max_depth': 2,\n",
       " 'max_leaf_nodes': 4,\n",
       " 'min_samples_leaf': 1,\n",
       " 'min_samples_split': 2}"
      ]
     },
     "execution_count": 17,
     "metadata": {},
     "output_type": "execute_result"
    }
   ],
   "source": [
    "grid_search.best_params_"
   ]
  },
  {
   "cell_type": "code",
   "execution_count": 23,
   "id": "2c402db1",
   "metadata": {},
   "outputs": [],
   "source": [
    "param_new={'max_depth':[1,2,3,4],'min_samples_split':[1,2,3,4],'min_samples_leaf':[1,2,3,4],'max_leaf_nodes':[4,5,10,20]}"
   ]
  },
  {
   "cell_type": "code",
   "execution_count": 24,
   "id": "8fb93507",
   "metadata": {},
   "outputs": [],
   "source": [
    "grid_search_new=GridSearchCV(clf,param_grid=param_new,cv=5)"
   ]
  },
  {
   "cell_type": "code",
   "execution_count": 25,
   "id": "57424e30",
   "metadata": {},
   "outputs": [
    {
     "name": "stderr",
     "output_type": "stream",
     "text": [
      "C:\\Users\\yang.zhang\\Anaconda3\\lib\\site-packages\\sklearn\\model_selection\\_validation.py:372: FitFailedWarning: \n",
      "320 fits failed out of a total of 1280.\n",
      "The score on these train-test partitions for these parameters will be set to nan.\n",
      "If these failures are not expected, you can try to debug them by setting error_score='raise'.\n",
      "\n",
      "Below are more details about the failures:\n",
      "--------------------------------------------------------------------------------\n",
      "320 fits failed with the following error:\n",
      "Traceback (most recent call last):\n",
      "  File \"C:\\Users\\yang.zhang\\Anaconda3\\lib\\site-packages\\sklearn\\model_selection\\_validation.py\", line 680, in _fit_and_score\n",
      "    estimator.fit(X_train, y_train, **fit_params)\n",
      "  File \"C:\\Users\\yang.zhang\\Anaconda3\\lib\\site-packages\\sklearn\\tree\\_classes.py\", line 937, in fit\n",
      "    super().fit(\n",
      "  File \"C:\\Users\\yang.zhang\\Anaconda3\\lib\\site-packages\\sklearn\\tree\\_classes.py\", line 250, in fit\n",
      "    raise ValueError(\n",
      "ValueError: min_samples_split must be an integer greater than 1 or a float in (0.0, 1.0]; got the integer 1\n",
      "\n",
      "  warnings.warn(some_fits_failed_message, FitFailedWarning)\n",
      "C:\\Users\\yang.zhang\\Anaconda3\\lib\\site-packages\\sklearn\\model_selection\\_search.py:969: UserWarning: One or more of the test scores are non-finite: [   nan 0.7735 0.7735 0.7735    nan 0.7735 0.7735 0.7735    nan 0.7735\n",
      " 0.7735 0.7735    nan 0.7735 0.7735 0.7735    nan 0.7735 0.7735 0.7735\n",
      "    nan 0.7735 0.7735 0.7735    nan 0.7735 0.7735 0.7735    nan 0.7735\n",
      " 0.7735 0.7735    nan 0.7735 0.7735 0.7735    nan 0.7735 0.7735 0.7735\n",
      "    nan 0.7735 0.7735 0.7735    nan 0.7735 0.7735 0.7735    nan 0.7735\n",
      " 0.7735 0.7735    nan 0.7735 0.7735 0.7735    nan 0.7735 0.7735 0.7735\n",
      "    nan 0.7735 0.7735 0.7735    nan 0.8568 0.8568 0.8568    nan 0.8568\n",
      " 0.8568 0.8568    nan 0.8568 0.8568 0.8568    nan 0.8568 0.8568 0.8568\n",
      "    nan 0.8568 0.8568 0.8568    nan 0.8568 0.8568 0.8568    nan 0.8568\n",
      " 0.8568 0.8568    nan 0.8568 0.8568 0.8568    nan 0.8568 0.8568 0.8568\n",
      "    nan 0.8568 0.8568 0.8568    nan 0.8568 0.8568 0.8568    nan 0.8568\n",
      " 0.8568 0.8568    nan 0.8568 0.8568 0.8568    nan 0.8568 0.8568 0.8568\n",
      "    nan 0.8568 0.8568 0.8568    nan 0.8568 0.8568 0.8568    nan 0.8568\n",
      " 0.8568 0.8568    nan 0.8568 0.8568 0.8568    nan 0.8568 0.8568 0.8568\n",
      "    nan 0.8568 0.8568 0.8568    nan 0.8568 0.8568 0.8568    nan 0.8568\n",
      " 0.8568 0.8568    nan 0.8568 0.8568 0.8568    nan 0.8568 0.8568 0.8568\n",
      "    nan 0.8568 0.8568 0.8568    nan 0.8568 0.8568 0.8568    nan 0.8568\n",
      " 0.8568 0.8568    nan 0.8568 0.8568 0.8568    nan 0.8568 0.8568 0.8568\n",
      "    nan 0.8568 0.8568 0.8568    nan 0.8568 0.8568 0.8568    nan 0.8568\n",
      " 0.8568 0.8568    nan 0.8568 0.8568 0.8568    nan 0.8568 0.8568 0.8568\n",
      "    nan 0.8568 0.8568 0.8568    nan 0.8568 0.8568 0.8568    nan 0.8568\n",
      " 0.8568 0.8568    nan 0.8568 0.8568 0.8568    nan 0.8568 0.8568 0.8568\n",
      "    nan 0.8568 0.8568 0.8568    nan 0.8568 0.8568 0.8568    nan 0.8568\n",
      " 0.8568 0.8568    nan 0.8568 0.8568 0.8568    nan 0.8568 0.8568 0.8568\n",
      "    nan 0.8553 0.8553 0.8553    nan 0.8553 0.8553 0.8553    nan 0.8553\n",
      " 0.8553 0.8553    nan 0.8553 0.8553 0.8553]\n",
      "  warnings.warn(\n"
     ]
    },
    {
     "data": {
      "text/plain": [
       "GridSearchCV(cv=5, estimator=DecisionTreeClassifier(),\n",
       "             param_grid={'max_depth': [1, 2, 3, 4],\n",
       "                         'max_leaf_nodes': [4, 5, 10, 20],\n",
       "                         'min_samples_leaf': [1, 2, 3, 4],\n",
       "                         'min_samples_split': [1, 2, 3, 4]})"
      ]
     },
     "execution_count": 25,
     "metadata": {},
     "output_type": "execute_result"
    }
   ],
   "source": [
    "grid_search_new.fit(X,y)"
   ]
  },
  {
   "cell_type": "code",
   "execution_count": 26,
   "id": "3b012f70",
   "metadata": {},
   "outputs": [
    {
     "data": {
      "text/plain": [
       "{'max_depth': 2,\n",
       " 'max_leaf_nodes': 4,\n",
       " 'min_samples_leaf': 1,\n",
       " 'min_samples_split': 2}"
      ]
     },
     "execution_count": 26,
     "metadata": {},
     "output_type": "execute_result"
    }
   ],
   "source": [
    "grid_search_new.best_params_"
   ]
  },
  {
   "cell_type": "code",
   "execution_count": 28,
   "id": "a71b967b",
   "metadata": {},
   "outputs": [],
   "source": [
    "from sklearn.model_selection import train_test_split\n",
    "X_train,X_test,y_train,y_test=train_test_split(X,y,test_size=0.2,random_state=42)"
   ]
  },
  {
   "cell_type": "code",
   "execution_count": 30,
   "id": "7c4de0f9",
   "metadata": {},
   "outputs": [],
   "source": [
    "clf_new=DecisionTreeClassifier(max_depth=2,max_leaf_nodes=4,min_samples_leaf=1,min_samples_split=2)"
   ]
  },
  {
   "cell_type": "code",
   "execution_count": 31,
   "id": "6f567496",
   "metadata": {},
   "outputs": [
    {
     "data": {
      "text/plain": [
       "DecisionTreeClassifier(max_depth=2, max_leaf_nodes=4)"
      ]
     },
     "execution_count": 31,
     "metadata": {},
     "output_type": "execute_result"
    }
   ],
   "source": [
    "clf_new.fit(X_train,y_train)"
   ]
  },
  {
   "cell_type": "code",
   "execution_count": 33,
   "id": "e5bbb858",
   "metadata": {},
   "outputs": [],
   "source": [
    "y_pred=clf_new.predict(X_test)"
   ]
  },
  {
   "cell_type": "code",
   "execution_count": 35,
   "id": "e02b7a20",
   "metadata": {},
   "outputs": [],
   "source": [
    "from sklearn.metrics import accuracy_score\n",
    "accuracy=accuracy_score(y_test,y_pred)"
   ]
  },
  {
   "cell_type": "code",
   "execution_count": 36,
   "id": "0d042175",
   "metadata": {},
   "outputs": [
    {
     "data": {
      "text/plain": [
       "0.863"
      ]
     },
     "execution_count": 36,
     "metadata": {},
     "output_type": "execute_result"
    }
   ],
   "source": [
    "accuracy"
   ]
  },
  {
   "cell_type": "code",
   "execution_count": null,
   "id": "87dc7287",
   "metadata": {},
   "outputs": [],
   "source": []
  }
 ],
 "metadata": {
  "kernelspec": {
   "display_name": "Python 3 (ipykernel)",
   "language": "python",
   "name": "python3"
  },
  "language_info": {
   "codemirror_mode": {
    "name": "ipython",
    "version": 3
   },
   "file_extension": ".py",
   "mimetype": "text/x-python",
   "name": "python",
   "nbconvert_exporter": "python",
   "pygments_lexer": "ipython3",
   "version": "3.9.13"
  }
 },
 "nbformat": 4,
 "nbformat_minor": 5
}
