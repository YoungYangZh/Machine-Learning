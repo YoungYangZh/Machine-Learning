{
 "cells": [
  {
   "cell_type": "markdown",
   "id": "80083316",
   "metadata": {},
   "source": [
    "# Linear Regression Example"
   ]
  },
  {
   "cell_type": "code",
   "execution_count": 69,
   "id": "fbb5aff5",
   "metadata": {},
   "outputs": [],
   "source": [
    "import numpy as np\n",
    "\n",
    "from sklearn.linear_model import LinearRegression\n",
    "\n",
    "from sklearn.metrics import mean_squared_error"
   ]
  },
  {
   "cell_type": "markdown",
   "id": "295e9e28",
   "metadata": {},
   "source": [
    "Antag att vi har data, där y = inkomst och X har två kolumner för utbildningsnivå och arbetslivserfarenhet. "
   ]
  },
  {
   "cell_type": "markdown",
   "id": "9d6a09ba",
   "metadata": {},
   "source": [
    "# Estimating a simple linear regression model."
   ]
  },
  {
   "cell_type": "code",
   "execution_count": 70,
   "id": "b33d4797",
   "metadata": {},
   "outputs": [],
   "source": [
    "X = np.array([[5, 2], [3, 4], [2, 7], [0, 10]])\n",
    "y = np.array([34000, 31000, 33000, 28000])\n",
    "\n",
    "X_new = np.array([[2, 5], [1, 3]])"
   ]
  },
  {
   "cell_type": "code",
   "execution_count": 71,
   "id": "1ff117df",
   "metadata": {},
   "outputs": [
    {
     "name": "stdout",
     "output_type": "stream",
     "text": [
      "[[ 5  2]\n",
      " [ 3  4]\n",
      " [ 2  7]\n",
      " [ 0 10]]\n",
      "\n",
      "[34000 31000 33000 28000]\n"
     ]
    }
   ],
   "source": [
    "print(X)\n",
    "\n",
    "print()\n",
    "\n",
    "print(y)"
   ]
  },
  {
   "cell_type": "code",
   "execution_count": 72,
   "id": "41982030",
   "metadata": {},
   "outputs": [],
   "source": [
    "# 1. Initialize the model. \n",
    "model=LinearRegression()"
   ]
  },
  {
   "cell_type": "code",
   "execution_count": 73,
   "id": "3ff36fa2",
   "metadata": {},
   "outputs": [
    {
     "data": {
      "text/plain": [
       "LinearRegression()"
      ]
     },
     "execution_count": 73,
     "metadata": {},
     "output_type": "execute_result"
    }
   ],
   "source": [
    "# 2. Fit the model. \n",
    "model.fit(X,y)"
   ]
  },
  {
   "cell_type": "code",
   "execution_count": 74,
   "id": "7425e1d6",
   "metadata": {},
   "outputs": [
    {
     "name": "stdout",
     "output_type": "stream",
     "text": [
      "[34000 31000 33000 28000]\n"
     ]
    }
   ],
   "source": [
    "# 3. Predicting the train data.\n",
    "y_pred=model.predict(X)\n",
    "print(y)\n"
   ]
  },
  {
   "cell_type": "code",
   "execution_count": null,
   "id": "ef2156f7",
   "metadata": {},
   "outputs": [],
   "source": []
  },
  {
   "cell_type": "code",
   "execution_count": 76,
   "id": "66fc700b",
   "metadata": {},
   "outputs": [
    {
     "data": {
      "text/plain": [
       "array([28774.19354839, 22629.03225806])"
      ]
     },
     "execution_count": 76,
     "metadata": {},
     "output_type": "execute_result"
    }
   ],
   "source": [
    "# Predicting \"new data\" (X_new) where we want to predict the salary y which in reality is unknow now. \n",
    "# Use the data in X_new.\n",
    "model.predict(X_new)\n"
   ]
  },
  {
   "cell_type": "code",
   "execution_count": null,
   "id": "5a7b543e",
   "metadata": {},
   "outputs": [],
   "source": []
  },
  {
   "cell_type": "code",
   "execution_count": 77,
   "id": "3a22b85d",
   "metadata": {},
   "outputs": [
    {
     "name": "stdout",
     "output_type": "stream",
     "text": [
      "[3370.96774194 1387.09677419]\n",
      "15096.774193548405\n"
     ]
    }
   ],
   "source": [
    "# Look at parameters (called attributes in scikit-learn). \n",
    "# Look at intercept_ and coef_ .\n",
    "print(model.coef_)\n",
    "print(model.intercept_)"
   ]
  },
  {
   "cell_type": "code",
   "execution_count": 78,
   "id": "0a995411",
   "metadata": {},
   "outputs": [
    {
     "data": {
      "text/plain": [
       "28774.140000000003"
      ]
     },
     "execution_count": 78,
     "metadata": {},
     "output_type": "execute_result"
    }
   ],
   "source": [
    "15096.77+3370.96*2+1387.09*5"
   ]
  },
  {
   "cell_type": "code",
   "execution_count": 79,
   "id": "b82fb0ed",
   "metadata": {},
   "outputs": [],
   "source": [
    "# Look at hyperparameters by using the get_params() method. In this case we used default values for all hyperparameters."
   ]
  },
  {
   "cell_type": "code",
   "execution_count": 80,
   "id": "5c500758",
   "metadata": {},
   "outputs": [
    {
     "data": {
      "text/plain": [
       "{'copy_X': True,\n",
       " 'fit_intercept': True,\n",
       " 'n_jobs': None,\n",
       " 'normalize': 'deprecated',\n",
       " 'positive': False}"
      ]
     },
     "execution_count": 80,
     "metadata": {},
     "output_type": "execute_result"
    }
   ],
   "source": [
    "model.get_params()"
   ]
  },
  {
   "cell_type": "markdown",
   "id": "634f75cc",
   "metadata": {},
   "source": [
    "## Calculate Root Mean Squared Error (RMSE) for the training data"
   ]
  },
  {
   "cell_type": "code",
   "execution_count": 81,
   "id": "6e0d0889",
   "metadata": {},
   "outputs": [
    {
     "name": "stdout",
     "output_type": "stream",
     "text": [
      "952.50095250143\n"
     ]
    }
   ],
   "source": [
    "# Hyperparameter squared=False gives the root mean squared error. \n",
    "# https://scikit-learn.org/stable/modules/generated/sklearn.metrics.mean_squared_error.html \n",
    "\n",
    "rmse = mean_squared_error(y,y_pred,squared=False)\n",
    "print(rmse)"
   ]
  },
  {
   "cell_type": "code",
   "execution_count": null,
   "id": "0e01e2c7",
   "metadata": {},
   "outputs": [],
   "source": []
  },
  {
   "cell_type": "code",
   "execution_count": 84,
   "id": "7fe7589b",
   "metadata": {},
   "outputs": [
    {
     "data": {
      "text/plain": [
       "952.50095250143"
      ]
     },
     "execution_count": 84,
     "metadata": {},
     "output_type": "execute_result"
    }
   ],
   "source": [
    "# Calulating the root mean squared error manually if you have time. \n",
    "rmse = np.sqrt(np.mean(np.square(y_pred - y)))\n",
    "rmse"
   ]
  },
  {
   "cell_type": "markdown",
   "id": "d4833ce3",
   "metadata": {},
   "source": [
    "\n",
    "### Vad är RMSE?\n",
    "\n",
    "RMSE står för Root Mean Squared Error.\\\n",
    "Det är ett mått för att utvärdera regressionsproblem och mäter prediktionernas medelavstånd från de äkta, observerade värdena.\n",
    "\n",
    "Matematiska formeln för RMSE är:\n",
    "\n",
    "$RMSE = \\sqrt{\\frac{1} {n} \\sum_{i=1}^{n}(\\hat{y}_i-y_i)^2}$\n",
    "\n",
    "Idén bakom RMSE är simpel:\n",
    "- Man tar skillnaden mellan en prediktion och respektive observerad värde: $\\hat{y}_i-y_i$;    Det kallas för __Error__.\n",
    "- Vi bryr oss inte om det är en positiv eller negativ skillnad, därför kvadrerar vi: $(\\hat{y}_i-y_i)^2$;   Det kallas för __Squared Error__.\n",
    "- Vi räknar ut medelvärdet för Squared Error: $\\frac{1} {n} \\sum_{i=1}^{n}(\\hat{y}_i-y_i)^2$;    Det kallas för __Mean Squared Error__.\n",
    "- Vi tar roten ur Mean Squared Error, så måttet är på det samma skala som datan och därför lättare att tolka: $\\sqrt{\\frac{1} {n} \\sum_{i=1}^{n}(\\hat{y}_i-y_i)^2}$"
   ]
  },
  {
   "cell_type": "code",
   "execution_count": null,
   "id": "a4d16f8a",
   "metadata": {},
   "outputs": [],
   "source": []
  }
 ],
 "metadata": {
  "kernelspec": {
   "display_name": "Python 3 (ipykernel)",
   "language": "python",
   "name": "python3"
  },
  "language_info": {
   "codemirror_mode": {
    "name": "ipython",
    "version": 3
   },
   "file_extension": ".py",
   "mimetype": "text/x-python",
   "name": "python",
   "nbconvert_exporter": "python",
   "pygments_lexer": "ipython3",
   "version": "3.9.13"
  }
 },
 "nbformat": 4,
 "nbformat_minor": 5
}
